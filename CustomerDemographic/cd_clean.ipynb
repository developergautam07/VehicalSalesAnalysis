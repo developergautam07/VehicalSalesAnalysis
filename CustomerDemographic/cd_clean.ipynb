{
  "cells": [
    {
      "cell_type": "code",
      "execution_count": null,
      "metadata": {
        "colab": {},
        "colab_type": "code",
        "id": "bcsuxaZTil8u"
      },
      "outputs": [],
      "source": [
        "import pandas as pd\n",
        "import numpy as np\n",
        "import matplotlib.pyplot as plt\n",
        "%matplotlib inline"
      ]
    },
    {
      "cell_type": "code",
      "execution_count": 52,
      "metadata": {
        "colab": {
          "base_uri": "https://localhost:8080/",
          "height": 295
        },
        "colab_type": "code",
        "id": "oy33AMqblNDY",
        "outputId": "3cfd8ced-ac59-4cea-cbfd-239271781b11"
      },
      "outputs": [
        {
          "data": {
            "text/html": [
              "<div>\n",
              "<style scoped>\n",
              "    .dataframe tbody tr th:only-of-type {\n",
              "        vertical-align: middle;\n",
              "    }\n",
              "\n",
              "    .dataframe tbody tr th {\n",
              "        vertical-align: top;\n",
              "    }\n",
              "\n",
              "    .dataframe thead th {\n",
              "        text-align: right;\n",
              "    }\n",
              "</style>\n",
              "<table border=\"1\" class=\"dataframe\">\n",
              "  <thead>\n",
              "    <tr style=\"text-align: right;\">\n",
              "      <th></th>\n",
              "      <th>customer_id</th>\n",
              "      <th>first_name</th>\n",
              "      <th>last_name</th>\n",
              "      <th>gender</th>\n",
              "      <th>past_3_years_bike_related_purchases</th>\n",
              "      <th>DOB</th>\n",
              "      <th>job_title</th>\n",
              "      <th>job_industry_category</th>\n",
              "      <th>wealth_segment</th>\n",
              "      <th>deceased_indicator</th>\n",
              "      <th>default</th>\n",
              "      <th>owns_car</th>\n",
              "      <th>tenure</th>\n",
              "    </tr>\n",
              "  </thead>\n",
              "  <tbody>\n",
              "    <tr>\n",
              "      <th>0</th>\n",
              "      <td>1</td>\n",
              "      <td>Laraine</td>\n",
              "      <td>Medendorp</td>\n",
              "      <td>F</td>\n",
              "      <td>93</td>\n",
              "      <td>1953-10-12</td>\n",
              "      <td>Executive Secretary</td>\n",
              "      <td>Health</td>\n",
              "      <td>Mass Customer</td>\n",
              "      <td>N</td>\n",
              "      <td>\"'</td>\n",
              "      <td>Yes</td>\n",
              "      <td>11.0</td>\n",
              "    </tr>\n",
              "    <tr>\n",
              "      <th>1</th>\n",
              "      <td>2</td>\n",
              "      <td>Eli</td>\n",
              "      <td>Bockman</td>\n",
              "      <td>Male</td>\n",
              "      <td>81</td>\n",
              "      <td>1980-12-16</td>\n",
              "      <td>Administrative Officer</td>\n",
              "      <td>Financial Services</td>\n",
              "      <td>Mass Customer</td>\n",
              "      <td>N</td>\n",
              "      <td>&lt;script&gt;alert('hi')&lt;/script&gt;</td>\n",
              "      <td>Yes</td>\n",
              "      <td>16.0</td>\n",
              "    </tr>\n",
              "    <tr>\n",
              "      <th>2</th>\n",
              "      <td>3</td>\n",
              "      <td>Arlin</td>\n",
              "      <td>Dearle</td>\n",
              "      <td>Male</td>\n",
              "      <td>61</td>\n",
              "      <td>1954-01-20</td>\n",
              "      <td>Recruiting Manager</td>\n",
              "      <td>Property</td>\n",
              "      <td>Mass Customer</td>\n",
              "      <td>N</td>\n",
              "      <td>2018-02-01 00:00:00</td>\n",
              "      <td>Yes</td>\n",
              "      <td>15.0</td>\n",
              "    </tr>\n",
              "    <tr>\n",
              "      <th>3</th>\n",
              "      <td>4</td>\n",
              "      <td>Talbot</td>\n",
              "      <td>NaN</td>\n",
              "      <td>Male</td>\n",
              "      <td>33</td>\n",
              "      <td>1961-10-03</td>\n",
              "      <td>NaN</td>\n",
              "      <td>IT</td>\n",
              "      <td>Mass Customer</td>\n",
              "      <td>N</td>\n",
              "      <td>() { _; } &gt;_[$($())] { touch /tmp/blns.shellsh...</td>\n",
              "      <td>No</td>\n",
              "      <td>7.0</td>\n",
              "    </tr>\n",
              "    <tr>\n",
              "      <th>4</th>\n",
              "      <td>5</td>\n",
              "      <td>Sheila-kathryn</td>\n",
              "      <td>Calton</td>\n",
              "      <td>Female</td>\n",
              "      <td>56</td>\n",
              "      <td>1977-05-13</td>\n",
              "      <td>Senior Editor</td>\n",
              "      <td>NaN</td>\n",
              "      <td>Affluent Customer</td>\n",
              "      <td>N</td>\n",
              "      <td>NIL</td>\n",
              "      <td>Yes</td>\n",
              "      <td>8.0</td>\n",
              "    </tr>\n",
              "  </tbody>\n",
              "</table>\n",
              "</div>"
            ],
            "text/plain": [
              "   customer_id      first_name  ... owns_car tenure\n",
              "0            1         Laraine  ...      Yes   11.0\n",
              "1            2             Eli  ...      Yes   16.0\n",
              "2            3           Arlin  ...      Yes   15.0\n",
              "3            4          Talbot  ...       No    7.0\n",
              "4            5  Sheila-kathryn  ...      Yes    8.0\n",
              "\n",
              "[5 rows x 13 columns]"
            ]
          },
          "execution_count": 52,
          "metadata": {
            "tags": []
          },
          "output_type": "execute_result"
        }
      ],
      "source": [
        "train = pd.read_excel('Book1.xlsx')\n",
        "train.head()"
      ]
    },
    {
      "cell_type": "code",
      "execution_count": 53,
      "metadata": {
        "colab": {
          "base_uri": "https://localhost:8080/",
          "height": 266
        },
        "colab_type": "code",
        "id": "OhNNRGTloeMn",
        "outputId": "c71ef76f-31c6-43a3-bead-7f75bcf4f9a2"
      },
      "outputs": [
        {
          "data": {
            "text/plain": [
              "customer_id                              0\n",
              "first_name                               0\n",
              "last_name                              125\n",
              "gender                                   0\n",
              "past_3_years_bike_related_purchases      0\n",
              "DOB                                     87\n",
              "job_title                              506\n",
              "job_industry_category                  656\n",
              "wealth_segment                           0\n",
              "deceased_indicator                       0\n",
              "default                                302\n",
              "owns_car                                 0\n",
              "tenure                                  87\n",
              "dtype: int64"
            ]
          },
          "execution_count": 53,
          "metadata": {
            "tags": []
          },
          "output_type": "execute_result"
        }
      ],
      "source": [
        "train.isnull().sum()"
      ]
    },
    {
      "cell_type": "code",
      "execution_count": null,
      "metadata": {
        "colab": {},
        "colab_type": "code",
        "id": "fllM1M53pGVv"
      },
      "outputs": [],
      "source": [
        "train['last_name']=train['last_name'].fillna(method='ffill')"
      ]
    },
    {
      "cell_type": "code",
      "execution_count": null,
      "metadata": {
        "colab": {},
        "colab_type": "code",
        "id": "NVbT9HjdpGgX"
      },
      "outputs": [],
      "source": [
        "train['DOB']=train['DOB'].fillna(method='ffill')"
      ]
    },
    {
      "cell_type": "code",
      "execution_count": 56,
      "metadata": {
        "colab": {
          "base_uri": "https://localhost:8080/",
          "height": 1000
        },
        "colab_type": "code",
        "id": "WMdGiGVUpGl6",
        "outputId": "6e816edf-54ee-4654-ddd8-bbe631a6ca43"
      },
      "outputs": [
        {
          "data": {
            "text/plain": [
              "Business Systems Development Analyst    45\n",
              "Tax Accountant                          44\n",
              "Social Worker                           44\n",
              "Internal Auditor                        42\n",
              "Recruiting Manager                      41\n",
              "Legal Assistant                         41\n",
              "General Manager                         40\n",
              "Associate Professor                     39\n",
              "Structural Engineer                     39\n",
              "Desktop Support Technician              38\n",
              "Sales Representative                    38\n",
              "Junior Executive                        38\n",
              "Senior Financial Analyst                37\n",
              "Chemical Engineer                       37\n",
              "Dental Hygienist                        37\n",
              "Executive Secretary                     37\n",
              "Technical Writer                        37\n",
              "Cost Accountant                         36\n",
              "Product Engineer                        36\n",
              "Assistant Professor                     36\n",
              "Registered Nurse                        36\n",
              "Senior Developer                        36\n",
              "Food Chemist                            35\n",
              "VP Product Management                   34\n",
              "Administrative Officer                  34\n",
              "Research Nurse                          33\n",
              "Electrical Engineer                     33\n",
              "VP Quality Control                      33\n",
              "Assistant Media Planner                 33\n",
              "Speech Pathologist                      33\n",
              "                                        ..\n",
              "Safety Technician IV                     6\n",
              "Software Engineer IV                     6\n",
              "Programmer Analyst I                     6\n",
              "Web Developer I                          6\n",
              "Administrative Assistant I               6\n",
              "Statistician III                         6\n",
              "Account Representative III               6\n",
              "Software Engineer I                      6\n",
              "Programmer I                             6\n",
              "Web Developer II                         6\n",
              "Research Assistant IV                    5\n",
              "Biostatistician III                      5\n",
              "Research Assistant I                     5\n",
              "Developer IV                             5\n",
              "Automation Specialist III                5\n",
              "Staff Accountant IV                      5\n",
              "Systems Administrator IV                 4\n",
              "Geologist II                             4\n",
              "Database Administrator I                 4\n",
              "Staff Accountant I                       4\n",
              "Human Resources Assistant IV             4\n",
              "Database Administrator II                4\n",
              "Account Representative II                4\n",
              "Administrative Assistant II              4\n",
              "Programmer Analyst IV                    4\n",
              "Computer Systems Analyst III             4\n",
              "Health Coach III                         3\n",
              "Research Assistant III                   3\n",
              "Health Coach I                           3\n",
              "Developer I                              1\n",
              "Name: job_title, Length: 195, dtype: int64"
            ]
          },
          "execution_count": 56,
          "metadata": {
            "tags": []
          },
          "output_type": "execute_result"
        }
      ],
      "source": [
        "train['job_title'].value_counts()"
      ]
    },
    {
      "cell_type": "code",
      "execution_count": null,
      "metadata": {
        "colab": {},
        "colab_type": "code",
        "id": "C6dlUWOSpGrd"
      },
      "outputs": [],
      "source": [
        "train['job_title']=train['job_title'].fillna(method='bfill')"
      ]
    },
    {
      "cell_type": "code",
      "execution_count": 58,
      "metadata": {
        "colab": {
          "base_uri": "https://localhost:8080/",
          "height": 195
        },
        "colab_type": "code",
        "id": "Ym6KoFqapGw5",
        "outputId": "f195cfd2-f42a-4297-dd33-d7b016e1e371"
      },
      "outputs": [
        {
          "data": {
            "text/plain": [
              "Manufacturing         799\n",
              "Financial Services    774\n",
              "Health                602\n",
              "Retail                358\n",
              "Property              267\n",
              "IT                    223\n",
              "Entertainment         136\n",
              "Argiculture           113\n",
              "Telecommunications     72\n",
              "Name: job_industry_category, dtype: int64"
            ]
          },
          "execution_count": 58,
          "metadata": {
            "tags": []
          },
          "output_type": "execute_result"
        }
      ],
      "source": [
        "train['job_industry_category'].value_counts()"
      ]
    },
    {
      "cell_type": "code",
      "execution_count": null,
      "metadata": {
        "colab": {},
        "colab_type": "code",
        "id": "98GLWxIjpGvt"
      },
      "outputs": [],
      "source": [
        "train['job_industry_category']=train['job_industry_category'].fillna(method='ffill')"
      ]
    },
    {
      "cell_type": "code",
      "execution_count": null,
      "metadata": {
        "colab": {},
        "colab_type": "code",
        "id": "4Wu70TxJFEog"
      },
      "outputs": [],
      "source": [
        "del train['default']"
      ]
    },
    {
      "cell_type": "code",
      "execution_count": 61,
      "metadata": {
        "colab": {
          "base_uri": "https://localhost:8080/",
          "height": 35
        },
        "colab_type": "code",
        "id": "1NrAL9TdpGqc",
        "outputId": "56ec95ad-73de-43b1-9c7c-086810005600"
      },
      "outputs": [
        {
          "data": {
            "text/plain": [
              "10.65704063378482"
            ]
          },
          "execution_count": 61,
          "metadata": {
            "tags": []
          },
          "output_type": "execute_result"
        }
      ],
      "source": [
        "train['tenure'].mean()\n"
      ]
    },
    {
      "cell_type": "code",
      "execution_count": 62,
      "metadata": {
        "colab": {
          "base_uri": "https://localhost:8080/",
          "height": 287
        },
        "colab_type": "code",
        "id": "4Dy44UZNFwCm",
        "outputId": "2cc1fb16-702b-41b3-c055-bdf7b4b3076a"
      },
      "outputs": [
        {
          "data": {
            "text/plain": [
              "<matplotlib.axes._subplots.AxesSubplot at 0x7f16eb859e48>"
            ]
          },
          "execution_count": 62,
          "metadata": {
            "tags": []
          },
          "output_type": "execute_result"
        },
        {
          "data": {
            "image/png": "[encoded data removed]",
            "text/plain": [
              "<Figure size 432x288 with 1 Axes>"
            ]
          },
          "metadata": {
            "tags": []
          },
          "output_type": "display_data"
        }
      ],
      "source": [
        "train['tenure'].hist()"
      ]
    },
    {
      "cell_type": "code",
      "execution_count": null,
      "metadata": {
        "colab": {},
        "colab_type": "code",
        "id": "yjRyOuylFW7j"
      },
      "outputs": [],
      "source": [
        "train['tenure']=train['tenure'].fillna(train['tenure'].mean())"
      ]
    },
    {
      "cell_type": "code",
      "execution_count": 64,
      "metadata": {
        "colab": {
          "base_uri": "https://localhost:8080/",
          "height": 287
        },
        "colab_type": "code",
        "id": "-MciYsaTFxCG",
        "outputId": "a7e3aca0-7b76-49a3-c3ef-b8755db50921"
      },
      "outputs": [
        {
          "data": {
            "text/plain": [
              "<matplotlib.axes._subplots.AxesSubplot at 0x7f16eabb1a90>"
            ]
          },
          "execution_count": 64,
          "metadata": {
            "tags": []
          },
          "output_type": "execute_result"
        },
        {
          "data": {
            "image/png": "[encoded data removed]",
            "text/plain": [
              "<Figure size 432x288 with 1 Axes>"
            ]
          },
          "metadata": {
            "tags": []
          },
          "output_type": "display_data"
        }
      ],
      "source": [
        "train['tenure'].hist()"
      ]
    },
    {
      "cell_type": "code",
      "execution_count": 65,
      "metadata": {
        "colab": {
          "base_uri": "https://localhost:8080/",
          "height": 76
        },
        "colab_type": "code",
        "id": "VVEk-Q2qF_x0",
        "outputId": "869ed24c-4117-462c-98d9-4c2f7a85a3e2"
      },
      "outputs": [
        {
          "data": {
            "text/html": [
              "<div>\n",
              "<style scoped>\n",
              "    .dataframe tbody tr th:only-of-type {\n",
              "        vertical-align: middle;\n",
              "    }\n",
              "\n",
              "    .dataframe tbody tr th {\n",
              "        vertical-align: top;\n",
              "    }\n",
              "\n",
              "    .dataframe thead th {\n",
              "        text-align: right;\n",
              "    }\n",
              "</style>\n",
              "<table border=\"1\" class=\"dataframe\">\n",
              "  <thead>\n",
              "    <tr style=\"text-align: right;\">\n",
              "      <th></th>\n",
              "      <th>customer_id</th>\n",
              "      <th>first_name</th>\n",
              "      <th>last_name</th>\n",
              "      <th>gender</th>\n",
              "      <th>past_3_years_bike_related_purchases</th>\n",
              "      <th>DOB</th>\n",
              "      <th>job_title</th>\n",
              "      <th>job_industry_category</th>\n",
              "      <th>wealth_segment</th>\n",
              "      <th>deceased_indicator</th>\n",
              "      <th>owns_car</th>\n",
              "      <th>tenure</th>\n",
              "    </tr>\n",
              "  </thead>\n",
              "  <tbody>\n",
              "    <tr>\n",
              "      <th>0</th>\n",
              "      <td>1</td>\n",
              "      <td>Laraine</td>\n",
              "      <td>Medendorp</td>\n",
              "      <td>F</td>\n",
              "      <td>93</td>\n",
              "      <td>1953-10-12</td>\n",
              "      <td>Executive Secretary</td>\n",
              "      <td>Health</td>\n",
              "      <td>Mass Customer</td>\n",
              "      <td>N</td>\n",
              "      <td>Yes</td>\n",
              "      <td>11.0</td>\n",
              "    </tr>\n",
              "  </tbody>\n",
              "</table>\n",
              "</div>"
            ],
            "text/plain": [
              "   customer_id first_name  last_name  ... deceased_indicator  owns_car tenure\n",
              "0            1    Laraine  Medendorp  ...                  N       Yes   11.0\n",
              "\n",
              "[1 rows x 12 columns]"
            ]
          },
          "execution_count": 65,
          "metadata": {
            "tags": []
          },
          "output_type": "execute_result"
        }
      ],
      "source": [
        "train.head(1)"
      ]
    },
    {
      "cell_type": "code",
      "execution_count": 66,
      "metadata": {
        "colab": {
          "base_uri": "https://localhost:8080/",
          "height": 248
        },
        "colab_type": "code",
        "id": "9mzWxFJlpGPa",
        "outputId": "ae340a7b-c182-4ee5-ea4f-ccf4c83ee087"
      },
      "outputs": [
        {
          "name": "stdout",
          "output_type": "stream",
          "text": [
            "   customer_id      first_name  last_name  ... deceased_indicator  owns_car tenure\n",
            "0            1         Laraine  Medendorp  ...                  N       Yes   11.0\n",
            "1            2             Eli    Bockman  ...                  N       Yes   16.0\n",
            "2            3           Arlin     Dearle  ...                  N       Yes   15.0\n",
            "3            4          Talbot     Dearle  ...                  N        No    7.0\n",
            "4            5  Sheila-kathryn     Calton  ...                  N       Yes    8.0\n",
            "5            6            Curr  Duckhouse  ...                  N       Yes   13.0\n",
            "6            7            Fina     Merali  ...                  N       Yes   11.0\n",
            "7            8             Rod      Inder  ...                  N        No    7.0\n",
            "8            9            Mala       Lind  ...                  N       Yes    8.0\n",
            "9           10        Fiorenze    Birdall  ...                  N       Yes   20.0\n",
            "\n",
            "[10 rows x 12 columns]\n"
          ]
        }
      ],
      "source": [
        "submission = pd.DataFrame({\n",
        "        \"customer_id\": train[\"customer_id\"],\n",
        "        \"first_name\": train[\"first_name\"],\n",
        "        \"last_name\": train[\"last_name\"],\n",
        "        \"gender\": train[\"gender\"],\n",
        "        \"past_3_years_bike_related_purchases\": train[\"past_3_years_bike_related_purchases\"],\n",
        "        \"DOB\": train[\"DOB\"],\n",
        "        \"job_title\": train[\"job_title\"],\n",
        "        \"job_industry_category\": train[\"job_industry_category\"],\n",
        "        \"wealth_segment\": train[\"wealth_segment\"],\n",
        "        \"deceased_indicator\": train[\"deceased_indicator\"],\n",
        "        \"owns_car\": train[\"owns_car\"],\n",
        "        \"tenure\": train[\"tenure\"]\n",
        "    })\n",
        "submission.to_csv('./submission.csv', index=False)\n",
        "print(submission.head(10))"
      ]
    },
    {
      "cell_type": "code",
      "execution_count": null,
      "metadata": {
        "colab": {},
        "colab_type": "code",
        "id": "BwtEs1BRtTuB"
      },
      "outputs": [],
      "source": []
    }
  ],
  "metadata": {
    "colab": {
      "name": "kpmg1_3.ipynb",
      "provenance": []
    },
    "kernelspec": {
      "display_name": "Python 3",
      "name": "python3"
    }
  },
  "nbformat": 4,
  "nbformat_minor": 0
}
