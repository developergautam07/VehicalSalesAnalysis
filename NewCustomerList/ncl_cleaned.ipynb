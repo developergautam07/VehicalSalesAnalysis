{
  "cells": [
    {
      "cell_type": "code",
      "execution_count": null,
      "metadata": {
        "colab": {},
        "colab_type": "code",
        "id": "bcsuxaZTil8u"
      },
      "outputs": [],
      "source": [
        "import pandas as pd\n",
        "import numpy as np\n",
        "import matplotlib.pyplot as plt\n",
        "%matplotlib inline"
      ]
    },
    {
      "cell_type": "code",
      "execution_count": 3,
      "metadata": {
        "colab": {
          "base_uri": "https://localhost:8080/",
          "height": 383
        },
        "colab_type": "code",
        "id": "oy33AMqblNDY",
        "outputId": "27748387-3d1f-471e-ad8a-0641a1fb1734"
      },
      "outputs": [
        {
          "data": {
            "text/html": [
              "<div>\n",
              "<style scoped>\n",
              "    .dataframe tbody tr th:only-of-type {\n",
              "        vertical-align: middle;\n",
              "    }\n",
              "\n",
              "    .dataframe tbody tr th {\n",
              "        vertical-align: top;\n",
              "    }\n",
              "\n",
              "    .dataframe thead th {\n",
              "        text-align: right;\n",
              "    }\n",
              "</style>\n",
              "<table border=\"1\" class=\"dataframe\">\n",
              "  <thead>\n",
              "    <tr style=\"text-align: right;\">\n",
              "      <th></th>\n",
              "      <th>first_name</th>\n",
              "      <th>last_name</th>\n",
              "      <th>gender</th>\n",
              "      <th>past_3_years_bike_related_purchases</th>\n",
              "      <th>DOB</th>\n",
              "      <th>job_title</th>\n",
              "      <th>job_industry_category</th>\n",
              "      <th>wealth_segment</th>\n",
              "      <th>deceased_indicator</th>\n",
              "      <th>owns_car</th>\n",
              "      <th>tenure</th>\n",
              "      <th>address</th>\n",
              "      <th>postcode</th>\n",
              "      <th>state</th>\n",
              "      <th>country</th>\n",
              "      <th>property_valuation</th>\n",
              "      <th>Rank</th>\n",
              "      <th>Value</th>\n",
              "    </tr>\n",
              "  </thead>\n",
              "  <tbody>\n",
              "    <tr>\n",
              "      <th>0</th>\n",
              "      <td>Chickie</td>\n",
              "      <td>Brister</td>\n",
              "      <td>Male</td>\n",
              "      <td>86</td>\n",
              "      <td>1957-07-12</td>\n",
              "      <td>General Manager</td>\n",
              "      <td>Manufacturing</td>\n",
              "      <td>Mass Customer</td>\n",
              "      <td>N</td>\n",
              "      <td>Yes</td>\n",
              "      <td>14</td>\n",
              "      <td>45 Shopko Center</td>\n",
              "      <td>4500</td>\n",
              "      <td>QLD</td>\n",
              "      <td>Australia</td>\n",
              "      <td>6</td>\n",
              "      <td>1</td>\n",
              "      <td>1.718750</td>\n",
              "    </tr>\n",
              "    <tr>\n",
              "      <th>1</th>\n",
              "      <td>Morly</td>\n",
              "      <td>Genery</td>\n",
              "      <td>Male</td>\n",
              "      <td>69</td>\n",
              "      <td>1970-03-22</td>\n",
              "      <td>Structural Engineer</td>\n",
              "      <td>Property</td>\n",
              "      <td>Mass Customer</td>\n",
              "      <td>N</td>\n",
              "      <td>No</td>\n",
              "      <td>16</td>\n",
              "      <td>14 Mccormick Park</td>\n",
              "      <td>2113</td>\n",
              "      <td>NSW</td>\n",
              "      <td>Australia</td>\n",
              "      <td>11</td>\n",
              "      <td>1</td>\n",
              "      <td>1.718750</td>\n",
              "    </tr>\n",
              "    <tr>\n",
              "      <th>2</th>\n",
              "      <td>Ardelis</td>\n",
              "      <td>Forrester</td>\n",
              "      <td>Female</td>\n",
              "      <td>10</td>\n",
              "      <td>1974-08-28</td>\n",
              "      <td>Senior Cost Accountant</td>\n",
              "      <td>Financial Services</td>\n",
              "      <td>Affluent Customer</td>\n",
              "      <td>N</td>\n",
              "      <td>No</td>\n",
              "      <td>10</td>\n",
              "      <td>5 Colorado Crossing</td>\n",
              "      <td>3505</td>\n",
              "      <td>VIC</td>\n",
              "      <td>Australia</td>\n",
              "      <td>5</td>\n",
              "      <td>1</td>\n",
              "      <td>1.718750</td>\n",
              "    </tr>\n",
              "    <tr>\n",
              "      <th>3</th>\n",
              "      <td>Lucine</td>\n",
              "      <td>Stutt</td>\n",
              "      <td>Female</td>\n",
              "      <td>64</td>\n",
              "      <td>1979-01-28</td>\n",
              "      <td>Account Representative III</td>\n",
              "      <td>Manufacturing</td>\n",
              "      <td>Affluent Customer</td>\n",
              "      <td>N</td>\n",
              "      <td>Yes</td>\n",
              "      <td>5</td>\n",
              "      <td>207 Annamark Plaza</td>\n",
              "      <td>4814</td>\n",
              "      <td>QLD</td>\n",
              "      <td>Australia</td>\n",
              "      <td>1</td>\n",
              "      <td>4</td>\n",
              "      <td>1.703125</td>\n",
              "    </tr>\n",
              "    <tr>\n",
              "      <th>4</th>\n",
              "      <td>Melinda</td>\n",
              "      <td>Hadlee</td>\n",
              "      <td>Female</td>\n",
              "      <td>34</td>\n",
              "      <td>1965-09-21</td>\n",
              "      <td>Financial Analyst</td>\n",
              "      <td>Financial Services</td>\n",
              "      <td>Affluent Customer</td>\n",
              "      <td>N</td>\n",
              "      <td>No</td>\n",
              "      <td>19</td>\n",
              "      <td>115 Montana Place</td>\n",
              "      <td>2093</td>\n",
              "      <td>NSW</td>\n",
              "      <td>Australia</td>\n",
              "      <td>9</td>\n",
              "      <td>4</td>\n",
              "      <td>1.703125</td>\n",
              "    </tr>\n",
              "  </tbody>\n",
              "</table>\n",
              "</div>"
            ],
            "text/plain": [
              "  first_name  last_name  gender  ...  property_valuation Rank     Value\n",
              "0    Chickie    Brister    Male  ...                   6    1  1.718750\n",
              "1      Morly     Genery    Male  ...                  11    1  1.718750\n",
              "2    Ardelis  Forrester  Female  ...                   5    1  1.718750\n",
              "3     Lucine      Stutt  Female  ...                   1    4  1.703125\n",
              "4    Melinda     Hadlee  Female  ...                   9    4  1.703125\n",
              "\n",
              "[5 rows x 18 columns]"
            ]
          },
          "execution_count": 3,
          "metadata": {
            "tags": []
          },
          "output_type": "execute_result"
        }
      ],
      "source": [
        "train = pd.read_excel('sh2.xlsx')\n",
        "train.head()"
      ]
    },
    {
      "cell_type": "code",
      "execution_count": 4,
      "metadata": {
        "colab": {
          "base_uri": "https://localhost:8080/",
          "height": 355
        },
        "colab_type": "code",
        "id": "OhNNRGTloeMn",
        "outputId": "546427b9-b1a8-4049-fdfc-1876fd187b4b"
      },
      "outputs": [
        {
          "data": {
            "text/plain": [
              "first_name                               0\n",
              "last_name                               29\n",
              "gender                                   0\n",
              "past_3_years_bike_related_purchases      0\n",
              "DOB                                     17\n",
              "job_title                              106\n",
              "job_industry_category                  165\n",
              "wealth_segment                           0\n",
              "deceased_indicator                       0\n",
              "owns_car                                 0\n",
              "tenure                                   0\n",
              "address                                  0\n",
              "postcode                                 0\n",
              "state                                    0\n",
              "country                                  0\n",
              "property_valuation                       0\n",
              "Rank                                     0\n",
              "Value                                    0\n",
              "dtype: int64"
            ]
          },
          "execution_count": 4,
          "metadata": {
            "tags": []
          },
          "output_type": "execute_result"
        }
      ],
      "source": [
        "train.isnull().sum()"
      ]
    },
    {
      "cell_type": "code",
      "execution_count": null,
      "metadata": {
        "colab": {},
        "colab_type": "code",
        "id": "fllM1M53pGVv"
      },
      "outputs": [],
      "source": [
        "train['last_name']=train['last_name'].fillna(method='ffill')"
      ]
    },
    {
      "cell_type": "code",
      "execution_count": null,
      "metadata": {
        "colab": {},
        "colab_type": "code",
        "id": "NVbT9HjdpGgX"
      },
      "outputs": [],
      "source": [
        "train['DOB']=train['DOB'].fillna(method='ffill')"
      ]
    },
    {
      "cell_type": "code",
      "execution_count": 7,
      "metadata": {
        "colab": {
          "base_uri": "https://localhost:8080/",
          "height": 1000
        },
        "colab_type": "code",
        "id": "WMdGiGVUpGl6",
        "outputId": "04d71e16-6734-48a5-b21c-ad7f5c3e6cbc"
      },
      "outputs": [
        {
          "data": {
            "text/plain": [
              "Associate Professor                     15\n",
              "Software Consultant                     14\n",
              "Environmental Tech                      14\n",
              "Chief Design Engineer                   13\n",
              "VP Sales                                12\n",
              "Senior Sales Associate                  12\n",
              "Assistant Manager                       12\n",
              "Assistant Media Planner                 12\n",
              "Cost Accountant                         12\n",
              "VP Marketing                            11\n",
              "Account Executive                       11\n",
              "Social Worker                           11\n",
              "Nurse Practicioner                      11\n",
              "Junior Executive                        11\n",
              "Environmental Specialist                11\n",
              "Payment Adjustment Coordinator          11\n",
              "VP Quality Control                      11\n",
              "Dental Hygienist                        10\n",
              "Chemical Engineer                       10\n",
              "Business Systems Development Analyst    10\n",
              "Librarian                               10\n",
              "Product Engineer                        10\n",
              "Structural Engineer                     10\n",
              "Human Resources Manager                 10\n",
              "Financial Analyst                       10\n",
              "Recruiting Manager                       9\n",
              "Structural Analysis Engineer             9\n",
              "Nurse                                    9\n",
              "General Manager                          9\n",
              "Marketing Manager                        9\n",
              "                                        ..\n",
              "Web Developer II                         1\n",
              "Web Developer I                          1\n",
              "Developer III                            1\n",
              "Accountant I                             1\n",
              "Accounting Assistant III                 1\n",
              "Budget/Accounting Analyst I              1\n",
              "Administrative Assistant I               1\n",
              "Human Resources Assistant III            1\n",
              "Budget/Accounting Analyst II             1\n",
              "Accounting Assistant II                  1\n",
              "Computer Systems Analyst II              1\n",
              "Software Test Engineer III               1\n",
              "Web Developer IV                         1\n",
              "Computer Systems Analyst III             1\n",
              "Systems Administrator II                 1\n",
              "Database Administrator I                 1\n",
              "Systems Administrator III                1\n",
              "Statistician IV                          1\n",
              "Media Manager I                          1\n",
              "Developer II                             1\n",
              "Systems Administrator I                  1\n",
              "Computer Systems Analyst IV              1\n",
              "Staff Accountant III                     1\n",
              "Safety Technician IV                     1\n",
              "Accountant II                            1\n",
              "Research Assistant I                     1\n",
              "Safety Technician II                     1\n",
              "Programmer IV                            1\n",
              "Software Test Engineer II                1\n",
              "Engineer II                              1\n",
              "Name: job_title, Length: 184, dtype: int64"
            ]
          },
          "execution_count": 7,
          "metadata": {
            "tags": []
          },
          "output_type": "execute_result"
        }
      ],
      "source": [
        "train['job_title'].value_counts()"
      ]
    },
    {
      "cell_type": "code",
      "execution_count": null,
      "metadata": {
        "colab": {},
        "colab_type": "code",
        "id": "C6dlUWOSpGrd"
      },
      "outputs": [],
      "source": [
        "train['job_title']=train['job_title'].fillna(method='bfill')"
      ]
    },
    {
      "cell_type": "code",
      "execution_count": 9,
      "metadata": {
        "colab": {
          "base_uri": "https://localhost:8080/",
          "height": 195
        },
        "colab_type": "code",
        "id": "Ym6KoFqapGw5",
        "outputId": "fb6b9dc0-fbe1-4fb6-e873-28a00ac28412"
      },
      "outputs": [
        {
          "data": {
            "text/plain": [
              "Financial Services    203\n",
              "Manufacturing         199\n",
              "Health                152\n",
              "Retail                 78\n",
              "Property               64\n",
              "IT                     51\n",
              "Entertainment          37\n",
              "Argiculture            26\n",
              "Telecommunications     25\n",
              "Name: job_industry_category, dtype: int64"
            ]
          },
          "execution_count": 9,
          "metadata": {
            "tags": []
          },
          "output_type": "execute_result"
        }
      ],
      "source": [
        "train['job_industry_category'].value_counts()"
      ]
    },
    {
      "cell_type": "code",
      "execution_count": null,
      "metadata": {
        "colab": {},
        "colab_type": "code",
        "id": "98GLWxIjpGvt"
      },
      "outputs": [],
      "source": [
        "train['job_industry_category']=train['job_industry_category'].fillna(method='bfill')"
      ]
    },
    {
      "cell_type": "code",
      "execution_count": 11,
      "metadata": {
        "colab": {
          "base_uri": "https://localhost:8080/",
          "height": 130
        },
        "colab_type": "code",
        "id": "1NrAL9TdpGqc",
        "outputId": "06fbabfb-0bf7-4346-909e-ffac05f7483c"
      },
      "outputs": [
        {
          "data": {
            "text/html": [
              "<div>\n",
              "<style scoped>\n",
              "    .dataframe tbody tr th:only-of-type {\n",
              "        vertical-align: middle;\n",
              "    }\n",
              "\n",
              "    .dataframe tbody tr th {\n",
              "        vertical-align: top;\n",
              "    }\n",
              "\n",
              "    .dataframe thead th {\n",
              "        text-align: right;\n",
              "    }\n",
              "</style>\n",
              "<table border=\"1\" class=\"dataframe\">\n",
              "  <thead>\n",
              "    <tr style=\"text-align: right;\">\n",
              "      <th></th>\n",
              "      <th>first_name</th>\n",
              "      <th>last_name</th>\n",
              "      <th>gender</th>\n",
              "      <th>past_3_years_bike_related_purchases</th>\n",
              "      <th>DOB</th>\n",
              "      <th>job_title</th>\n",
              "      <th>job_industry_category</th>\n",
              "      <th>wealth_segment</th>\n",
              "      <th>deceased_indicator</th>\n",
              "      <th>owns_car</th>\n",
              "      <th>tenure</th>\n",
              "      <th>address</th>\n",
              "      <th>postcode</th>\n",
              "      <th>state</th>\n",
              "      <th>country</th>\n",
              "      <th>property_valuation</th>\n",
              "      <th>Rank</th>\n",
              "      <th>Value</th>\n",
              "    </tr>\n",
              "  </thead>\n",
              "  <tbody>\n",
              "    <tr>\n",
              "      <th>0</th>\n",
              "      <td>Chickie</td>\n",
              "      <td>Brister</td>\n",
              "      <td>Male</td>\n",
              "      <td>86</td>\n",
              "      <td>1957-07-12</td>\n",
              "      <td>General Manager</td>\n",
              "      <td>Manufacturing</td>\n",
              "      <td>Mass Customer</td>\n",
              "      <td>N</td>\n",
              "      <td>Yes</td>\n",
              "      <td>14</td>\n",
              "      <td>45 Shopko Center</td>\n",
              "      <td>4500</td>\n",
              "      <td>QLD</td>\n",
              "      <td>Australia</td>\n",
              "      <td>6</td>\n",
              "      <td>1</td>\n",
              "      <td>1.71875</td>\n",
              "    </tr>\n",
              "  </tbody>\n",
              "</table>\n",
              "</div>"
            ],
            "text/plain": [
              "  first_name last_name gender  ...  property_valuation Rank    Value\n",
              "0    Chickie   Brister   Male  ...                   6    1  1.71875\n",
              "\n",
              "[1 rows x 18 columns]"
            ]
          },
          "execution_count": 11,
          "metadata": {
            "tags": []
          },
          "output_type": "execute_result"
        }
      ],
      "source": [
        "train.head(1)"
      ]
    },
    {
      "cell_type": "code",
      "execution_count": 16,
      "metadata": {
        "colab": {
          "base_uri": "https://localhost:8080/",
          "height": 248
        },
        "colab_type": "code",
        "id": "9mzWxFJlpGPa",
        "outputId": "ffb231ba-e8fa-40fd-94dd-e21e44ffc5f5"
      },
      "outputs": [
        {
          "name": "stdout",
          "output_type": "stream",
          "text": [
            "  first_name  last_name  gender  ...  property_valuation Rank     Value\n",
            "0    Chickie    Brister    Male  ...                   6    1  1.718750\n",
            "1      Morly     Genery    Male  ...                  11    1  1.718750\n",
            "2    Ardelis  Forrester  Female  ...                   5    1  1.718750\n",
            "3     Lucine      Stutt  Female  ...                   1    4  1.703125\n",
            "4    Melinda     Hadlee  Female  ...                   9    4  1.703125\n",
            "5      Druci    Brandli  Female  ...                   7    6  1.671875\n",
            "6   Rutledge      Hallt    Male  ...                   7    6  1.671875\n",
            "7     Nancie       Vian  Female  ...                   5    8  1.656250\n",
            "8       Duff  Karlowicz    Male  ...                  10    8  1.656250\n",
            "9    Barthel     Docket    Male  ...                   5   10  1.640625\n",
            "\n",
            "[10 rows x 18 columns]\n"
          ]
        }
      ],
      "source": [
        "submission = pd.DataFrame({\n",
        "        \"first_name\": train[\"first_name\"],\n",
        "        \"last_name\": train[\"last_name\"],\n",
        "        \"gender\": train[\"gender\"],\n",
        "        \"past_3_years_bike_related_purchases\": train[\"past_3_years_bike_related_purchases\"],\n",
        "        \"DOB\": train[\"DOB\"],\n",
        "        \"job_title\": train[\"job_title\"],\n",
        "        \"job_industry_category\": train[\"job_industry_category\"],\n",
        "        \"wealth_segment\": train[\"wealth_segment\"],\n",
        "        \"deceased_indicator\": train[\"deceased_indicator\"],\n",
        "        \"owns_car\": train[\"owns_car\"],\n",
        "        \"tenure\": train[\"tenure\"],\n",
        "        \"address\": train[\"address\"],\n",
        "        \"postcode\": train[\"postcode\"],\n",
        "        \"state\": train[\"state\"],\n",
        "        \"country\": train[\"country\"],\n",
        "        \"property_valuation\": train[\"property_valuation\"],\n",
        "        \"Rank\": train[\"Rank\"],\n",
        "        \"Value\": train[\"Value\"]\n",
        "    })\n",
        "submission.to_csv('./submission.csv', index=False)\n",
        "print(submission.head(10))"
      ]
    },
    {
      "cell_type": "code",
      "execution_count": null,
      "metadata": {
        "colab": {},
        "colab_type": "code",
        "id": "BwtEs1BRtTuB"
      },
      "outputs": [],
      "source": []
    }
  ],
  "metadata": {
    "colab": {
      "name": "kpmg1_2.ipynb",
      "provenance": []
    },
    "kernelspec": {
      "display_name": "Python 3",
      "name": "python3"
    }
  },
  "nbformat": 4,
  "nbformat_minor": 0
}
