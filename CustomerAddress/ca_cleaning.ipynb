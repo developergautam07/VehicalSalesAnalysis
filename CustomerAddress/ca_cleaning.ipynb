{
  "cells": [
    {
      "cell_type": "code",
      "execution_count": null,
      "metadata": {
        "colab": {},
        "colab_type": "code",
        "id": "bcsuxaZTil8u"
      },
      "outputs": [],
      "source": [
        "import pandas as pd\n",
        "import numpy as np\n",
        "import matplotlib.pyplot as plt\n",
        "%matplotlib inline"
      ]
    },
    {
      "cell_type": "code",
      "execution_count": 102,
      "metadata": {
        "colab": {
          "base_uri": "https://localhost:8080/",
          "height": 194
        },
        "colab_type": "code",
        "id": "oy33AMqblNDY",
        "outputId": "f486db28-a895-4015-9d7e-debb5310b915"
      },
      "outputs": [
        {
          "data": {
            "text/html": [
              "<div>\n",
              "<style scoped>\n",
              "    .dataframe tbody tr th:only-of-type {\n",
              "        vertical-align: middle;\n",
              "    }\n",
              "\n",
              "    .dataframe tbody tr th {\n",
              "        vertical-align: top;\n",
              "    }\n",
              "\n",
              "    .dataframe thead th {\n",
              "        text-align: right;\n",
              "    }\n",
              "</style>\n",
              "<table border=\"1\" class=\"dataframe\">\n",
              "  <thead>\n",
              "    <tr style=\"text-align: right;\">\n",
              "      <th></th>\n",
              "      <th>customer_id</th>\n",
              "      <th>address</th>\n",
              "      <th>postcode</th>\n",
              "      <th>state</th>\n",
              "      <th>country</th>\n",
              "      <th>property_valuation</th>\n",
              "    </tr>\n",
              "  </thead>\n",
              "  <tbody>\n",
              "    <tr>\n",
              "      <th>0</th>\n",
              "      <td>1</td>\n",
              "      <td>060 Morning Avenue</td>\n",
              "      <td>2016</td>\n",
              "      <td>New South Wales</td>\n",
              "      <td>Australia</td>\n",
              "      <td>10</td>\n",
              "    </tr>\n",
              "    <tr>\n",
              "      <th>1</th>\n",
              "      <td>2</td>\n",
              "      <td>6 Meadow Vale Court</td>\n",
              "      <td>2153</td>\n",
              "      <td>New South Wales</td>\n",
              "      <td>Australia</td>\n",
              "      <td>10</td>\n",
              "    </tr>\n",
              "    <tr>\n",
              "      <th>2</th>\n",
              "      <td>4</td>\n",
              "      <td>0 Holy Cross Court</td>\n",
              "      <td>4211</td>\n",
              "      <td>QLD</td>\n",
              "      <td>Australia</td>\n",
              "      <td>9</td>\n",
              "    </tr>\n",
              "    <tr>\n",
              "      <th>3</th>\n",
              "      <td>5</td>\n",
              "      <td>17979 Del Mar Point</td>\n",
              "      <td>2448</td>\n",
              "      <td>New South Wales</td>\n",
              "      <td>Australia</td>\n",
              "      <td>4</td>\n",
              "    </tr>\n",
              "    <tr>\n",
              "      <th>4</th>\n",
              "      <td>6</td>\n",
              "      <td>9 Oakridge Court</td>\n",
              "      <td>3216</td>\n",
              "      <td>VIC</td>\n",
              "      <td>Australia</td>\n",
              "      <td>9</td>\n",
              "    </tr>\n",
              "  </tbody>\n",
              "</table>\n",
              "</div>"
            ],
            "text/plain": [
              "   customer_id              address  ...    country property_valuation\n",
              "0            1   060 Morning Avenue  ...  Australia                 10\n",
              "1            2  6 Meadow Vale Court  ...  Australia                 10\n",
              "2            4   0 Holy Cross Court  ...  Australia                  9\n",
              "3            5  17979 Del Mar Point  ...  Australia                  4\n",
              "4            6     9 Oakridge Court  ...  Australia                  9\n",
              "\n",
              "[5 rows x 6 columns]"
            ]
          },
          "execution_count": 102,
          "metadata": {
            "tags": []
          },
          "output_type": "execute_result"
        }
      ],
      "source": [
        "train = pd.read_excel('sh4 (1).xlsx')\n",
        "train.head()"
      ]
    },
    {
      "cell_type": "code",
      "execution_count": 103,
      "metadata": {
        "colab": {
          "base_uri": "https://localhost:8080/",
          "height": 141
        },
        "colab_type": "code",
        "id": "OhNNRGTloeMn",
        "outputId": "ae2f555e-3b44-45b0-fd9a-5f615c280c9b"
      },
      "outputs": [
        {
          "data": {
            "text/plain": [
              "customer_id           0\n",
              "address               0\n",
              "postcode              0\n",
              "state                 0\n",
              "country               0\n",
              "property_valuation    0\n",
              "dtype: int64"
            ]
          },
          "execution_count": 103,
          "metadata": {
            "tags": []
          },
          "output_type": "execute_result"
        }
      ],
      "source": [
        "train.isnull().sum()"
      ]
    },
    {
      "cell_type": "code",
      "execution_count": 104,
      "metadata": {
        "colab": {
          "base_uri": "https://localhost:8080/",
          "height": 287
        },
        "colab_type": "code",
        "id": "_BU_rwNv8OFp",
        "outputId": "b2e53acb-723e-40c6-8609-9df7eedc9c83"
      },
      "outputs": [
        {
          "data": {
            "text/plain": [
              "<matplotlib.axes._subplots.AxesSubplot at 0x7f67a3976240>"
            ]
          },
          "execution_count": 104,
          "metadata": {
            "tags": []
          },
          "output_type": "execute_result"
        },
        {
          "data": {
            "image/png": "[encoded data removed]",
            "text/plain": [
              "<Figure size 432x288 with 1 Axes>"
            ]
          },
          "metadata": {
            "tags": []
          },
          "output_type": "display_data"
        }
      ],
      "source": [
        "train['postcode'].plot()"
      ]
    },
    {
      "cell_type": "code",
      "execution_count": 105,
      "metadata": {
        "colab": {
          "base_uri": "https://localhost:8080/",
          "height": 52
        },
        "colab_type": "code",
        "id": "xOoUYRgy8f1H",
        "outputId": "7d9d9853-2ad8-43d2-99d4-f903d294e13b"
      },
      "outputs": [
        {
          "data": {
            "text/plain": [
              "Australia    3999\n",
              "Name: country, dtype: int64"
            ]
          },
          "execution_count": 105,
          "metadata": {
            "tags": []
          },
          "output_type": "execute_result"
        }
      ],
      "source": [
        "train['country'].value_counts()"
      ]
    },
    {
      "cell_type": "code",
      "execution_count": 106,
      "metadata": {
        "colab": {
          "base_uri": "https://localhost:8080/",
          "height": 287
        },
        "colab_type": "code",
        "id": "NgBHDB2a8fzw",
        "outputId": "dffe170c-2141-42dd-ae40-eae99ade8805"
      },
      "outputs": [
        {
          "data": {
            "text/plain": [
              "<matplotlib.axes._subplots.AxesSubplot at 0x7f67a0f8b9b0>"
            ]
          },
          "execution_count": 106,
          "metadata": {
            "tags": []
          },
          "output_type": "execute_result"
        },
        {
          "data": {
            "image/png": "[encoded data removed]",
            "text/plain": [
              "<Figure size 432x288 with 1 Axes>"
            ]
          },
          "metadata": {
            "tags": []
          },
          "output_type": "display_data"
        }
      ],
      "source": [
        "\n",
        "train['property_valuation'].plot()"
      ]
    },
    {
      "cell_type": "code",
      "execution_count": 107,
      "metadata": {
        "colab": {
          "base_uri": "https://localhost:8080/",
          "height": 248
        },
        "colab_type": "code",
        "id": "md1qSXDv9FB1",
        "outputId": "b8c25510-9d05-4320-dbb0-72fc46c26d89"
      },
      "outputs": [
        {
          "name": "stdout",
          "output_type": "stream",
          "text": [
            "   customer_id                  address  ...    country property_valuation\n",
            "0            1       060 Morning Avenue  ...  Australia                 10\n",
            "1            2      6 Meadow Vale Court  ...  Australia                 10\n",
            "2            4       0 Holy Cross Court  ...  Australia                  9\n",
            "3            5      17979 Del Mar Point  ...  Australia                  4\n",
            "4            6         9 Oakridge Court  ...  Australia                  9\n",
            "5            7         4 Delaware Trail  ...  Australia                  9\n",
            "6            8      49 Londonderry Lane  ...  Australia                  4\n",
            "7            9          97736 7th Trail  ...  Australia                 12\n",
            "8           11     93405 Ludington Park  ...  Australia                  8\n",
            "9           12  44339 Golden Leaf Alley  ...  Australia                  4\n",
            "\n",
            "[10 rows x 6 columns]\n"
          ]
        }
      ],
      "source": [
        "submission = pd.DataFrame({\n",
        "        \"customer_id\": train[\"customer_id\"],\n",
        "        \"address\": train[\"address\"],\n",
        "        \"postcode\": train[\"postcode\"],\n",
        "        \"state\": train[\"state\"],\n",
        "        \"country\": train[\"country\"],\n",
        "        \"property_valuation\": train[\"property_valuation\"]\n",
        "    })\n",
        "submission.to_csv('./submission.csv', index=False)\n",
        "print(submission.head(10))"
      ]
    },
    {
      "cell_type": "code",
      "execution_count": null,
      "metadata": {
        "colab": {},
        "colab_type": "code",
        "id": "LwWBCW_mtL2G"
      },
      "outputs": [],
      "source": [
        "from google.colab import files\n",
        "files.download('submission.csv')"
      ]
    },
    {
      "cell_type": "code",
      "execution_count": null,
      "metadata": {},
      "outputs": [],
      "source": []
    },
    {
      "cell_type": "code",
      "execution_count": null,
      "metadata": {
        "colab": {},
        "colab_type": "code",
        "id": "BwtEs1BRtTuB"
      },
      "outputs": [],
      "source": []
    }
  ],
  "metadata": {
    "colab": {
      "name": "kpmg1.4.ipynb",
      "provenance": []
    },
    "kernelspec": {
      "display_name": "Python 3",
      "name": "python3"
    }
  },
  "nbformat": 4,
  "nbformat_minor": 0
}
