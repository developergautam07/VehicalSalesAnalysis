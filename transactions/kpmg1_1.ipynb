{
  "cells": [
    {
      "cell_type": "code",
      "execution_count": null,
      "metadata": {
        "colab": {},
        "colab_type": "code",
        "id": "bcsuxaZTil8u"
      },
      "outputs": [],
      "source": [
        "import pandas as pd\n",
        "import numpy as np\n",
        "import matplotlib.pyplot as plt\n",
        "%matplotlib inline"
      ]
    },
    {
      "cell_type": "code",
      "execution_count": 4,
      "metadata": {
        "colab": {
          "base_uri": "https://localhost:8080/",
          "height": 194
        },
        "colab_type": "code",
        "id": "oy33AMqblNDY",
        "outputId": "8fe766b4-8034-4fea-9088-5d25acd6f516"
      },
      "outputs": [
        {
          "data": {
            "text/html": [
              "<div>\n",
              "<style scoped>\n",
              "    .dataframe tbody tr th:only-of-type {\n",
              "        vertical-align: middle;\n",
              "    }\n",
              "\n",
              "    .dataframe tbody tr th {\n",
              "        vertical-align: top;\n",
              "    }\n",
              "\n",
              "    .dataframe thead th {\n",
              "        text-align: right;\n",
              "    }\n",
              "</style>\n",
              "<table border=\"1\" class=\"dataframe\">\n",
              "  <thead>\n",
              "    <tr style=\"text-align: right;\">\n",
              "      <th></th>\n",
              "      <th>transaction_id</th>\n",
              "      <th>product_id</th>\n",
              "      <th>customer_id</th>\n",
              "      <th>transaction_date</th>\n",
              "      <th>online_order</th>\n",
              "      <th>order_status</th>\n",
              "      <th>brand</th>\n",
              "      <th>product_line</th>\n",
              "      <th>product_class</th>\n",
              "      <th>product_size</th>\n",
              "      <th>list_price</th>\n",
              "      <th>standard_cost</th>\n",
              "      <th>product_first_sold_date</th>\n",
              "    </tr>\n",
              "  </thead>\n",
              "  <tbody>\n",
              "    <tr>\n",
              "      <th>0</th>\n",
              "      <td>1</td>\n",
              "      <td>2</td>\n",
              "      <td>2950</td>\n",
              "      <td>2017-02-25</td>\n",
              "      <td>0.0</td>\n",
              "      <td>Approved</td>\n",
              "      <td>Solex</td>\n",
              "      <td>Standard</td>\n",
              "      <td>medium</td>\n",
              "      <td>medium</td>\n",
              "      <td>71.49</td>\n",
              "      <td>53.62</td>\n",
              "      <td>41245.0</td>\n",
              "    </tr>\n",
              "    <tr>\n",
              "      <th>1</th>\n",
              "      <td>2</td>\n",
              "      <td>3</td>\n",
              "      <td>3120</td>\n",
              "      <td>2017-05-21</td>\n",
              "      <td>1.0</td>\n",
              "      <td>Approved</td>\n",
              "      <td>Trek Bicycles</td>\n",
              "      <td>Standard</td>\n",
              "      <td>medium</td>\n",
              "      <td>large</td>\n",
              "      <td>2091.47</td>\n",
              "      <td>388.92</td>\n",
              "      <td>41701.0</td>\n",
              "    </tr>\n",
              "    <tr>\n",
              "      <th>2</th>\n",
              "      <td>3</td>\n",
              "      <td>37</td>\n",
              "      <td>402</td>\n",
              "      <td>2017-10-16</td>\n",
              "      <td>0.0</td>\n",
              "      <td>Approved</td>\n",
              "      <td>OHM Cycles</td>\n",
              "      <td>Standard</td>\n",
              "      <td>low</td>\n",
              "      <td>medium</td>\n",
              "      <td>1793.43</td>\n",
              "      <td>248.82</td>\n",
              "      <td>36361.0</td>\n",
              "    </tr>\n",
              "    <tr>\n",
              "      <th>3</th>\n",
              "      <td>4</td>\n",
              "      <td>88</td>\n",
              "      <td>3135</td>\n",
              "      <td>2017-08-31</td>\n",
              "      <td>0.0</td>\n",
              "      <td>Approved</td>\n",
              "      <td>Norco Bicycles</td>\n",
              "      <td>Standard</td>\n",
              "      <td>medium</td>\n",
              "      <td>medium</td>\n",
              "      <td>1198.46</td>\n",
              "      <td>381.10</td>\n",
              "      <td>36145.0</td>\n",
              "    </tr>\n",
              "    <tr>\n",
              "      <th>4</th>\n",
              "      <td>5</td>\n",
              "      <td>78</td>\n",
              "      <td>787</td>\n",
              "      <td>2017-10-01</td>\n",
              "      <td>1.0</td>\n",
              "      <td>Approved</td>\n",
              "      <td>Giant Bicycles</td>\n",
              "      <td>Standard</td>\n",
              "      <td>medium</td>\n",
              "      <td>large</td>\n",
              "      <td>1765.30</td>\n",
              "      <td>709.48</td>\n",
              "      <td>42226.0</td>\n",
              "    </tr>\n",
              "  </tbody>\n",
              "</table>\n",
              "</div>"
            ],
            "text/plain": [
              "   transaction_id  product_id  ...  standard_cost product_first_sold_date\n",
              "0               1           2  ...          53.62                 41245.0\n",
              "1               2           3  ...         388.92                 41701.0\n",
              "2               3          37  ...         248.82                 36361.0\n",
              "3               4          88  ...         381.10                 36145.0\n",
              "4               5          78  ...         709.48                 42226.0\n",
              "\n",
              "[5 rows x 13 columns]"
            ]
          },
          "execution_count": 4,
          "metadata": {
            "tags": []
          },
          "output_type": "execute_result"
        }
      ],
      "source": [
        "train = pd.read_excel('sh1.xlsx')\n",
        "train.head()"
      ]
    },
    {
      "cell_type": "code",
      "execution_count": 20,
      "metadata": {
        "colab": {
          "base_uri": "https://localhost:8080/",
          "height": 266
        },
        "colab_type": "code",
        "id": "OhNNRGTloeMn",
        "outputId": "9ef97d87-3467-4780-d263-55f08fc7675c"
      },
      "outputs": [
        {
          "data": {
            "text/plain": [
              "transaction_id             0\n",
              "product_id                 0\n",
              "customer_id                0\n",
              "transaction_date           0\n",
              "online_order               0\n",
              "order_status               0\n",
              "brand                      0\n",
              "product_line               0\n",
              "product_class              0\n",
              "product_size               0\n",
              "list_price                 0\n",
              "standard_cost              0\n",
              "product_first_sold_date    0\n",
              "dtype: int64"
            ]
          },
          "execution_count": 20,
          "metadata": {
            "tags": []
          },
          "output_type": "execute_result"
        }
      ],
      "source": [
        "train.isnull().sum()"
      ]
    },
    {
      "cell_type": "code",
      "execution_count": 6,
      "metadata": {
        "colab": {
          "base_uri": "https://localhost:8080/",
          "height": 70
        },
        "colab_type": "code",
        "id": "To-JO4lVpGRh",
        "outputId": "8de12aef-f741-495b-c395-746f39d89ce8"
      },
      "outputs": [
        {
          "data": {
            "text/plain": [
              "1.0    9829\n",
              "0.0    9811\n",
              "Name: online_order, dtype: int64"
            ]
          },
          "execution_count": 6,
          "metadata": {
            "tags": []
          },
          "output_type": "execute_result"
        }
      ],
      "source": [
        "train['online_order'].value_counts()"
      ]
    },
    {
      "cell_type": "code",
      "execution_count": null,
      "metadata": {
        "colab": {},
        "colab_type": "code",
        "id": "fllM1M53pGVv"
      },
      "outputs": [],
      "source": [
        "train['online_order']=train['online_order'].fillna(method='ffill')"
      ]
    },
    {
      "cell_type": "code",
      "execution_count": 8,
      "metadata": {
        "colab": {
          "base_uri": "https://localhost:8080/",
          "height": 141
        },
        "colab_type": "code",
        "id": "u88YpFvapGbM",
        "outputId": "15e1573a-678d-443b-902e-51b32fb8e1ea"
      },
      "outputs": [
        {
          "data": {
            "text/plain": [
              "Solex             4253\n",
              "Giant Bicycles    3312\n",
              "WeareA2B          3295\n",
              "OHM Cycles        3043\n",
              "Trek Bicycles     2990\n",
              "Norco Bicycles    2910\n",
              "Name: brand, dtype: int64"
            ]
          },
          "execution_count": 8,
          "metadata": {
            "tags": []
          },
          "output_type": "execute_result"
        }
      ],
      "source": [
        "train['brand'].value_counts()"
      ]
    },
    {
      "cell_type": "code",
      "execution_count": null,
      "metadata": {
        "colab": {},
        "colab_type": "code",
        "id": "NVbT9HjdpGgX"
      },
      "outputs": [],
      "source": [
        "train['brand']=train['brand'].fillna(method='ffill')"
      ]
    },
    {
      "cell_type": "code",
      "execution_count": 10,
      "metadata": {
        "colab": {
          "base_uri": "https://localhost:8080/",
          "height": 106
        },
        "colab_type": "code",
        "id": "WMdGiGVUpGl6",
        "outputId": "7056c746-33da-46ac-876f-6c7bf6a715e4"
      },
      "outputs": [
        {
          "data": {
            "text/plain": [
              "Standard    14176\n",
              "Road         3970\n",
              "Touring      1234\n",
              "Mountain      423\n",
              "Name: product_line, dtype: int64"
            ]
          },
          "execution_count": 10,
          "metadata": {
            "tags": []
          },
          "output_type": "execute_result"
        }
      ],
      "source": [
        "train['product_line'].value_counts()"
      ]
    },
    {
      "cell_type": "code",
      "execution_count": null,
      "metadata": {
        "colab": {},
        "colab_type": "code",
        "id": "C6dlUWOSpGrd"
      },
      "outputs": [],
      "source": [
        "train['product_line']=train['product_line'].fillna(method='bfill')"
      ]
    },
    {
      "cell_type": "code",
      "execution_count": 12,
      "metadata": {
        "colab": {
          "base_uri": "https://localhost:8080/",
          "height": 88
        },
        "colab_type": "code",
        "id": "Ym6KoFqapGw5",
        "outputId": "3a772a23-9808-4452-8a95-f17f300d2eb2"
      },
      "outputs": [
        {
          "data": {
            "text/plain": [
              "medium    13826\n",
              "high       3013\n",
              "low        2964\n",
              "Name: product_class, dtype: int64"
            ]
          },
          "execution_count": 12,
          "metadata": {
            "tags": []
          },
          "output_type": "execute_result"
        }
      ],
      "source": [
        "train['product_class'].value_counts()"
      ]
    },
    {
      "cell_type": "code",
      "execution_count": null,
      "metadata": {
        "colab": {},
        "colab_type": "code",
        "id": "98GLWxIjpGvt"
      },
      "outputs": [],
      "source": [
        "train['product_class']=train['product_class'].fillna(method='bfill')"
      ]
    },
    {
      "cell_type": "code",
      "execution_count": 14,
      "metadata": {
        "colab": {
          "base_uri": "https://localhost:8080/",
          "height": 88
        },
        "colab_type": "code",
        "id": "1NrAL9TdpGqc",
        "outputId": "1cd18359-e02c-4459-9d69-49f75c878102"
      },
      "outputs": [
        {
          "data": {
            "text/plain": [
              "medium    12990\n",
              "large      3976\n",
              "small      2837\n",
              "Name: product_size, dtype: int64"
            ]
          },
          "execution_count": 14,
          "metadata": {
            "tags": []
          },
          "output_type": "execute_result"
        }
      ],
      "source": [
        "train['product_size'].value_counts()"
      ]
    },
    {
      "cell_type": "code",
      "execution_count": null,
      "metadata": {
        "colab": {},
        "colab_type": "code",
        "id": "yPhgrWLspGk9"
      },
      "outputs": [],
      "source": [
        "train['product_size']=train['product_size'].fillna(method='ffill')"
      ]
    },
    {
      "cell_type": "code",
      "execution_count": 16,
      "metadata": {
        "colab": {
          "base_uri": "https://localhost:8080/",
          "height": 35
        },
        "colab_type": "code",
        "id": "2XM29q6_pGfh",
        "outputId": "ee9b1a42-59b1-47b7-bee4-97b0131e0738"
      },
      "outputs": [
        {
          "data": {
            "text/plain": [
              "556.0469512209421"
            ]
          },
          "execution_count": 16,
          "metadata": {
            "tags": []
          },
          "output_type": "execute_result"
        }
      ],
      "source": [
        "train['standard_cost'].mean()"
      ]
    },
    {
      "cell_type": "code",
      "execution_count": null,
      "metadata": {
        "colab": {},
        "colab_type": "code",
        "id": "xerXYALtpGZ9"
      },
      "outputs": [],
      "source": [
        "train['standard_cost']=train['standard_cost'].fillna(train['standard_cost'].mean())"
      ]
    },
    {
      "cell_type": "code",
      "execution_count": null,
      "metadata": {
        "colab": {},
        "colab_type": "code",
        "id": "iW-1kv5XpGUv"
      },
      "outputs": [],
      "source": [
        "train['product_first_sold_date']=train['product_first_sold_date'].fillna(train['product_first_sold_date'].mean())"
      ]
    },
    {
      "cell_type": "code",
      "execution_count": 19,
      "metadata": {
        "colab": {
          "base_uri": "https://localhost:8080/",
          "height": 248
        },
        "colab_type": "code",
        "id": "9mzWxFJlpGPa",
        "outputId": "51afee62-5b6f-4af9-ab11-fea4a2dfa5cd"
      },
      "outputs": [
        {
          "name": "stdout",
          "output_type": "stream",
          "text": [
            "   transaction_id  product_id  ...  standard_cost product_first_sold_date\n",
            "0               1           2  ...          53.62                 41245.0\n",
            "1               2           3  ...         388.92                 41701.0\n",
            "2               3          37  ...         248.82                 36361.0\n",
            "3               4          88  ...         381.10                 36145.0\n",
            "4               5          78  ...         709.48                 42226.0\n",
            "5               6          25  ...         829.65                 39031.0\n",
            "6               7          22  ...          45.26                 34165.0\n",
            "7               8          15  ...          13.44                 39915.0\n",
            "8               9          67  ...         380.74                 33455.0\n",
            "9              10          12  ...         161.60                 38216.0\n",
            "\n",
            "[10 rows x 13 columns]\n"
          ]
        }
      ],
      "source": [
        "submission = pd.DataFrame({\n",
        "        \"transaction_id\": train[\"transaction_id\"],\n",
        "        \"product_id\": train[\"product_id\"],\n",
        "        \"customer_id\": train[\"customer_id\"],\n",
        "        \"transaction_date\": train[\"transaction_date\"],\n",
        "        \"online_order\": train[\"online_order\"],\n",
        "        \"order_status\": train[\"order_status\"],\n",
        "        \"brand\": train[\"brand\"],\n",
        "        \"product_line\": train[\"product_line\"],\n",
        "        \"product_class\": train[\"product_class\"],\n",
        "        \"product_size\": train[\"product_size\"],\n",
        "        \"list_price\": train[\"list_price\"],\n",
        "        \"standard_cost\": train[\"standard_cost\"],\n",
        "        \"product_first_sold_date\": train[\"product_first_sold_date\"]\n",
        "    })\n",
        "submission.to_csv('./submission.csv', index=False)\n",
        "print(submission.head(10))"
      ]
    },
    {
      "cell_type": "code",
      "execution_count": null,
      "metadata": {
        "colab": {},
        "colab_type": "code",
        "id": "BwtEs1BRtTuB"
      },
      "outputs": [],
      "source": []
    }
  ],
  "metadata": {
    "colab": {
      "name": "kpmg1_1.ipynb",
      "provenance": []
    },
    "kernelspec": {
      "display_name": "Python 3",
      "name": "python3"
    }
  },
  "nbformat": 4,
  "nbformat_minor": 0
}
